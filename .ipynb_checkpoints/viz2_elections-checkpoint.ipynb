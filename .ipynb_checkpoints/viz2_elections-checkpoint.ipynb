{
 "cells": [
  {
   "cell_type": "markdown",
   "id": "c4874e83-9cc9-4b4d-ba04-77673711b191",
   "metadata": {
    "id": "c4874e83-9cc9-4b4d-ba04-77673711b191"
   },
   "source": [
    "\n",
    "\n",
    "<center><img src=\"https://github.com/Magallanes-at-UTDT/DataViz_ShortTalk/blob/main/LogoTaller_viz.png?raw=true\" width=\"1000\"></center>\n",
    "\n",
    "\n",
    "# **THE 2021 Presidential Elections in Perú**\n",
    "\n",
    "\n",
    "Results from 2021 presidential election, first round, available at [INFOGOB](https://infogob.jne.gob.pe/BaseDatos). Let's keep the results at the _PROVINCIA_ level."
   ]
  },
  {
   "cell_type": "code",
   "execution_count": null,
   "id": "KOUqsSNqfaw5",
   "metadata": {
    "id": "KOUqsSNqfaw5"
   },
   "outputs": [],
   "source": [
    "# !pip install unidecode"
   ]
  },
  {
   "cell_type": "code",
   "execution_count": null,
   "id": "d25bb792",
   "metadata": {
    "id": "d25bb792"
   },
   "outputs": [],
   "source": [
    "import pandas as pd # you may also need openpyxl\n",
    "from unidecode import unidecode # helps get rid of some troublesome spanish elements\n",
    "\n",
    "dataLink=\"https://github.com/Magallanes-at-UTDT/DataViz_shortTalk_2/raw/main/data/Presi2021_V1.xlsx\"\n",
    "\n",
    "vuelta1=pd.read_excel(dataLink,sheet_name='Nivel_Provincial')\n",
    "\n",
    "vuelta1.columns=[unidecode(col) for col in vuelta1.columns.str.replace('\\s','',regex=True)]\n",
    "\n",
    "# checking the way the data was recognised by pandas\n",
    "vuelta1.info()"
   ]
  },
  {
   "cell_type": "code",
   "execution_count": null,
   "id": "73e1c853-84f8-41bc-839c-db24c3a2bae1",
   "metadata": {
    "id": "73e1c853-84f8-41bc-839c-db24c3a2bae1"
   },
   "outputs": [],
   "source": [
    "# quick look\n",
    "vuelta1.head()"
   ]
  },
  {
   "cell_type": "markdown",
   "id": "5706c0ac-07de-4b5f-b838-01e81e2805d7",
   "metadata": {
    "id": "5706c0ac-07de-4b5f-b838-01e81e2805d7"
   },
   "source": [
    "# <div class=\"alert alert-success\" role=\"alert\">Party level info</div>\n",
    "\n",
    "Let's work with the column **OrganizacionPolitica**."
   ]
  },
  {
   "cell_type": "code",
   "execution_count": null,
   "id": "bf863a7e",
   "metadata": {
    "id": "bf863a7e"
   },
   "outputs": [],
   "source": [
    "# any missing values in votes?\n",
    "vuelta1[vuelta1.Votos.isnull()].loc[:,\"OrganizacionPolitica\"].value_counts()"
   ]
  },
  {
   "cell_type": "code",
   "execution_count": null,
   "id": "655c82a1",
   "metadata": {
    "id": "655c82a1"
   },
   "outputs": [],
   "source": [
    "# replace by zero.\n",
    "vuelta1['Votos']=vuelta1.loc[:,'Votos'].fillna(0)"
   ]
  },
  {
   "cell_type": "code",
   "execution_count": null,
   "id": "cabe7755",
   "metadata": {
    "id": "cabe7755"
   },
   "outputs": [],
   "source": [
    "# how do the names look?\n",
    "vuelta1.OrganizacionPolitica.value_counts()"
   ]
  },
  {
   "cell_type": "code",
   "execution_count": null,
   "id": "0ddd495a",
   "metadata": {
    "id": "0ddd495a"
   },
   "outputs": [],
   "source": [
    "# shortening some names\n",
    "mapOfChanges={\n",
    "    \"PARTIDO POPULAR CRISTIANO - PPC\":\"PARTIDO POPULAR CRISTIANO\",\n",
    "    \"EL FRENTE AMPLIO POR JUSTICIA. VIDA Y LIBERTAD\":\"FRENTE AMPLIO\",\n",
    "    \"PARTIDO DEMOCRATICO SOMOS PERU\":\"SOMOS PERU\",\n",
    "    \"AVANZA PAIS - PARTIDO DE INTEGRACION SOCIAL\":\"AVANZA PAIS\",\n",
    "    \"PARTIDO POLITICO NACIONAL PERU LIBRE\":\"PERU LIBRE\",\n",
    "    \"PARTIDO NACIONALISTA PERUANO\":\"NACIONALISTA PERUANO\"\n",
    "}\n",
    "vuelta1.replace({'OrganizacionPolitica':mapOfChanges},inplace=True)"
   ]
  },
  {
   "cell_type": "markdown",
   "id": "fedf125d-213f-481f-be7b-7e9c1c72085d",
   "metadata": {
    "id": "fedf125d-213f-481f-be7b-7e9c1c72085d"
   },
   "source": [
    "<div class=\"alert alert-info\" role=\"alert\">\n",
    "\n",
    "### Information to visualize (I)\n",
    "    \n",
    "</div>"
   ]
  },
  {
   "cell_type": "code",
   "execution_count": null,
   "id": "31f7dd96-db4a-423a-bf5f-bee4878402b0",
   "metadata": {
    "id": "31f7dd96-db4a-423a-bf5f-bee4878402b0"
   },
   "outputs": [],
   "source": [
    "# keeping columns needed\n",
    "subvuelta1=vuelta1.loc[:,['Region', 'Provincia','Ausentismo' ,'OrganizacionPolitica','Votos']]\n",
    "\n",
    "# aggregating\n",
    "partidos=subvuelta1.groupby(by=\"OrganizacionPolitica\")['Votos'].agg('sum').reset_index()\n",
    "partidos"
   ]
  },
  {
   "cell_type": "markdown",
   "id": "7bdb0c70-911b-495e-b4f9-2db51afd8fb3",
   "metadata": {
    "id": "7bdb0c70-911b-495e-b4f9-2db51afd8fb3"
   },
   "source": [
    "Let's add _Ausentismo_ as a row:"
   ]
  },
  {
   "cell_type": "code",
   "execution_count": null,
   "id": "10f03476-3308-4c9d-85b7-e50f27fd5153",
   "metadata": {
    "id": "10f03476-3308-4c9d-85b7-e50f27fd5153"
   },
   "outputs": [],
   "source": [
    "ausentismo=subvuelta1[[\"Provincia\",'Ausentismo']].drop_duplicates().iloc[:,1].sum()\n",
    "# adding\n",
    "partidos=partidos._append({'OrganizacionPolitica':'AUSENTISMO','Votos':ausentismo}, ignore_index=True)"
   ]
  },
  {
   "cell_type": "markdown",
   "id": "83c0fa9e-801c-4bd3-891f-ce4fe2ffc596",
   "metadata": {
    "id": "83c0fa9e-801c-4bd3-891f-ce4fe2ffc596"
   },
   "source": [
    "Let's add a column to flag actual party votes:"
   ]
  },
  {
   "cell_type": "code",
   "execution_count": null,
   "id": "552d4c9e-bbde-4211-bae1-35522d0eb24a",
   "metadata": {
    "id": "552d4c9e-bbde-4211-bae1-35522d0eb24a"
   },
   "outputs": [],
   "source": [
    "partidos['isParty']=~partidos.OrganizacionPolitica.isin(['VOTOS EN BLANCO','VOTOS NULOS','AUSENTISMO'])\n",
    "partidos"
   ]
  },
  {
   "cell_type": "markdown",
   "id": "73fb27a1-671c-4b59-9c45-c1e160a0ea79",
   "metadata": {
    "id": "73fb27a1-671c-4b59-9c45-c1e160a0ea79"
   },
   "source": [
    "Let's turn this table into a viz:\n",
    "\n",
    "* Call the library:"
   ]
  },
  {
   "cell_type": "code",
   "execution_count": null,
   "id": "v8kAwwnUg6Y0",
   "metadata": {
    "id": "v8kAwwnUg6Y0"
   },
   "outputs": [],
   "source": [
    "# !pip install \"vegafusion-jupyter[embed]\""
   ]
  },
  {
   "cell_type": "code",
   "execution_count": null,
   "id": "da2e6424",
   "metadata": {
    "id": "da2e6424"
   },
   "outputs": [],
   "source": [
    "# library to use\n",
    "import altair as alt\n",
    "alt.data_transformers.enable(\"vegafusion\"); # in case you have more then 5000 rows"
   ]
  },
  {
   "cell_type": "markdown",
   "id": "b8e0e536-81e9-4a61-817a-4beada9904d8",
   "metadata": {
    "id": "b8e0e536-81e9-4a61-817a-4beada9904d8"
   },
   "source": [
    "* Read the data into the library format:"
   ]
  },
  {
   "cell_type": "code",
   "execution_count": null,
   "id": "5b952524-b1a6-4ee8-8794-b18d73fac3f4",
   "metadata": {
    "id": "5b952524-b1a6-4ee8-8794-b18d73fac3f4"
   },
   "outputs": [],
   "source": [
    "# data into altair\n",
    "DataPartidos=alt.Chart(partidos)"
   ]
  },
  {
   "cell_type": "markdown",
   "id": "c18eb0bd-9e92-4a5b-8073-c343956cf58f",
   "metadata": {
    "id": "c18eb0bd-9e92-4a5b-8073-c343956cf58f"
   },
   "source": [
    "* Select what will be encoded:"
   ]
  },
  {
   "cell_type": "code",
   "execution_count": null,
   "id": "f28b4a77",
   "metadata": {
    "id": "f28b4a77"
   },
   "outputs": [],
   "source": [
    "Encodings=DataPartidos.\\\n",
    "            encode(alt.X('Votos'),\n",
    "                   alt.Y('OrganizacionPolitica'))"
   ]
  },
  {
   "cell_type": "markdown",
   "id": "133effff-00c4-4038-81c1-783bf4e620c2",
   "metadata": {
    "id": "133effff-00c4-4038-81c1-783bf4e620c2"
   },
   "source": [
    "* Select mark for the encoding:"
   ]
  },
  {
   "cell_type": "code",
   "execution_count": null,
   "id": "28c0fa65-c46a-4c49-9bce-616fc0da9c0c",
   "metadata": {
    "id": "28c0fa65-c46a-4c49-9bce-616fc0da9c0c"
   },
   "outputs": [],
   "source": [
    "Encodings.mark_point()"
   ]
  },
  {
   "cell_type": "markdown",
   "id": "0e69d368-6521-452b-9f00-2d518c1c7be8",
   "metadata": {
    "id": "0e69d368-6521-452b-9f00-2d518c1c7be8"
   },
   "source": [
    "* Improve the results:\n",
    "  \n",
    "    a. Sorting"
   ]
  },
  {
   "cell_type": "code",
   "execution_count": null,
   "id": "4c432a79-4ee9-420a-828c-c84fef0f9d3a",
   "metadata": {
    "id": "4c432a79-4ee9-420a-828c-c84fef0f9d3a"
   },
   "outputs": [],
   "source": [
    "# sorting by an axes\n",
    "Encodings=DataPartidos.\\\n",
    "            encode(alt.X('Votos'),\n",
    "                    alt.Y('OrganizacionPolitica').sort('-x')) # decreasing on 'Votos'\n",
    "Encodings.mark_point()"
   ]
  },
  {
   "cell_type": "markdown",
   "id": "3634cf71-a2ba-459f-9bb4-3c97ecc175a6",
   "metadata": {
    "id": "3634cf71-a2ba-459f-9bb4-3c97ecc175a6"
   },
   "source": [
    "    b. encoding color"
   ]
  },
  {
   "cell_type": "markdown",
   "id": "fd9e2a0d-457c-40f3-9891-2c0a0a22dacb",
   "metadata": {
    "id": "fd9e2a0d-457c-40f3-9891-2c0a0a22dacb"
   },
   "source": [
    "Note: Choose the right [color map](https://vega.github.io/vega/docs/schemes/)"
   ]
  },
  {
   "cell_type": "code",
   "execution_count": null,
   "id": "72cbb197",
   "metadata": {
    "id": "72cbb197"
   },
   "outputs": [],
   "source": [
    "Encodings= DataPartidos.encode(alt.X('Votos'),\n",
    "                              alt.Y('OrganizacionPolitica').sort('-x'),\n",
    "                              alt.Color('isParty',scale=alt.Scale(scheme='dark2'))\n",
    "                              )\n",
    "Encodings.mark_point()"
   ]
  },
  {
   "cell_type": "markdown",
   "id": "417ff7f3-34f8-462c-bd46-25da5ae5bf83",
   "metadata": {
    "id": "417ff7f3-34f8-462c-bd46-25da5ae5bf83"
   },
   "source": [
    "    c. trying other marks"
   ]
  },
  {
   "cell_type": "code",
   "execution_count": null,
   "id": "12696d29-cb4c-46b5-9a80-ad35a582a1b4",
   "metadata": {
    "id": "12696d29-cb4c-46b5-9a80-ad35a582a1b4"
   },
   "outputs": [],
   "source": [
    "Encodings= DataPartidos.encode(alt.X('Votos'),\n",
    "                              alt.Y('OrganizacionPolitica').sort('-x'),\n",
    "                              alt.Color('isParty',scale=alt.Scale(scheme='dark2'))\n",
    "                              )\n",
    "Encodings.mark_rule() + Encodings.mark_circle()"
   ]
  },
  {
   "cell_type": "markdown",
   "id": "63195683-63d7-471e-8d4c-20cf2f12c419",
   "metadata": {
    "id": "63195683-63d7-471e-8d4c-20cf2f12c419"
   },
   "source": [
    "    d. Modifying data for selected mark(s) and encodings."
   ]
  },
  {
   "cell_type": "code",
   "execution_count": null,
   "id": "1cd128cd-db35-42ae-93fd-a8eb3e9827f2",
   "metadata": {
    "id": "1cd128cd-db35-42ae-93fd-a8eb3e9827f2"
   },
   "outputs": [],
   "source": [
    "partidosSort=partidos.sort_values(['isParty', 'Votos'], ascending=[False, False])\n",
    "partidosSort"
   ]
  },
  {
   "cell_type": "code",
   "execution_count": null,
   "id": "6456ff1c-9497-4f39-9876-e6f4d254af6c",
   "metadata": {
    "id": "6456ff1c-9497-4f39-9876-e6f4d254af6c"
   },
   "outputs": [],
   "source": [
    "DataPartidos=alt.Chart(partidosSort)\n",
    "Encodings = DataPartidos.encode(alt.X('Votos'),\n",
    "                           alt.Y('OrganizacionPolitica')\n",
    "                                .sort(partidosSort.OrganizacionPolitica.to_list()), #order of table\n",
    "                           alt.Color('isParty',scale=alt.Scale(scheme='dark2'))# color map\n",
    "                          )\n",
    "\n",
    "Encodings.mark_rule() + Encodings.mark_circle()"
   ]
  },
  {
   "cell_type": "markdown",
   "id": "3899c7fe-9a04-4437-89c9-c78b3642c942",
   "metadata": {
    "id": "3899c7fe-9a04-4437-89c9-c78b3642c942"
   },
   "source": [
    "    e. annotating and finishings"
   ]
  },
  {
   "cell_type": "code",
   "execution_count": null,
   "id": "3a8f0df3-b449-44f5-b407-1e736697be6a",
   "metadata": {
    "id": "3a8f0df3-b449-44f5-b407-1e736697be6a"
   },
   "outputs": [],
   "source": [
    "Encodings = DataPartidos.encode(alt.X('Votos').axis(None),\n",
    "                                alt.Y('OrganizacionPolitica',\n",
    "                                      axis=alt.Axis(ticks=False))\n",
    "                                    .sort(partidosSort.OrganizacionPolitica.to_list()),\n",
    "                                alt.Color('isParty',scale=alt.Scale(scheme='dark2'))\n",
    "                                )\n",
    "#new dataframe for annotations\n",
    "DataPartidos_subset=alt.Chart(partidosSort.query(\"Votos >= 1087222\"))\n",
    "\n",
    "annotations = DataPartidos_subset.encode(alt.X('Votos'),\n",
    "                                         alt.Y('OrganizacionPolitica')\n",
    "                                             .sort(partidosSort.OrganizacionPolitica.to_list()),\n",
    "                                         alt.Text(\"Votos\"))\n",
    "\n",
    "\n",
    "((Encodings.mark_rule()+ annotations.mark_text(align='left',fontWeight='bold'))\n",
    "     .configure_axis(grid=False)\n",
    "     .configure_view(stroke=None)\n",
    ")"
   ]
  },
  {
   "cell_type": "code",
   "execution_count": null,
   "id": "785f2ac5",
   "metadata": {
    "id": "785f2ac5"
   },
   "outputs": [],
   "source": [
    "# instead?\n",
    "((Encodings.mark_bar()+ annotations.mark_text(align='left',fontWeight='bold'))\n",
    "     .configure_axis(grid=False)\n",
    "     .configure_view(stroke=None)\n",
    ")"
   ]
  },
  {
   "cell_type": "markdown",
   "id": "d25b5182-4978-4cfc-b034-dd1711ea6ae2",
   "metadata": {
    "id": "d25b5182-4978-4cfc-b034-dd1711ea6ae2"
   },
   "source": [
    "<div class=\"alert alert-info\" role=\"alert\">\n",
    "\n",
    "### Information to visualize (II)\n",
    "    \n",
    "</div>"
   ]
  },
  {
   "cell_type": "markdown",
   "id": "5698d7a5-6487-43d8-94a0-0445462f8685",
   "metadata": {
    "id": "5698d7a5-6487-43d8-94a0-0445462f8685"
   },
   "source": [
    "There is less complexity if we just keep the actual party votes:"
   ]
  },
  {
   "cell_type": "code",
   "execution_count": null,
   "id": "f87fdab3-9773-4beb-8da1-8b9dcd0926e1",
   "metadata": {
    "id": "f87fdab3-9773-4beb-8da1-8b9dcd0926e1"
   },
   "outputs": [],
   "source": [
    "onlyPartidos=partidos[partidos.isParty]\n",
    "onlyPartidos=onlyPartidos.assign(shareVotes=(onlyPartidos.Votos/onlyPartidos.Votos.sum()))\n",
    "onlyPartidos=onlyPartidos.sort_values(['Votos'], ascending=[False])\n",
    "onlyPartidos"
   ]
  },
  {
   "cell_type": "code",
   "execution_count": null,
   "id": "10c1a28d-455d-41aa-a473-1b3603a2cc07",
   "metadata": {
    "id": "10c1a28d-455d-41aa-a473-1b3603a2cc07"
   },
   "outputs": [],
   "source": [
    "DataPartidos=alt.Chart(onlyPartidos)\n",
    "\n",
    "Encodings = DataPartidos.encode(alt.Y('shareVotes').axis(None),\n",
    "                                alt.X('OrganizacionPolitica').sort(partidosSort.OrganizacionPolitica.to_list())).properties(\n",
    "    width=600,\n",
    "    height=300\n",
    ")\n",
    "\n",
    "annotations = Encodings.encode(alt.Text(\"shareVotes\",format='.1%'))\n",
    "\n",
    "\n",
    "((Encodings.mark_bar(color='lightgrey')+ annotations.mark_text(fontWeight='bold', color='black',dy=-10) )\n",
    "     .configure_axis(grid=False)\n",
    "     .configure_view(stroke=None)\n",
    ")"
   ]
  },
  {
   "cell_type": "markdown",
   "id": "bacc6877-c70e-4ce3-943e-8ec39fd157f1",
   "metadata": {
    "id": "bacc6877-c70e-4ce3-943e-8ec39fd157f1"
   },
   "source": [
    "Frome the shares, we could produce a **Pareto**-like chart:"
   ]
  },
  {
   "cell_type": "code",
   "execution_count": null,
   "id": "0927a19a-80e4-4400-a479-0e4c14e170ae",
   "metadata": {
    "id": "0927a19a-80e4-4400-a479-0e4c14e170ae"
   },
   "outputs": [],
   "source": [
    "# try 1:\n",
    "cummulative= Encodings.encode(\n",
    "    alt.Y('cumulative_count:Q')\n",
    ").transform_window(\n",
    "    cumulative_count='sum(shareVotes)'\n",
    ")\n",
    "\n",
    "((Encodings.mark_bar(color='lightgrey')+\n",
    "  annotations.mark_text(fontWeight='bold', color='black')  +\n",
    "  cummulative.mark_line(yOffset=15))\n",
    "     .configure_axis(grid=False)\n",
    "     .configure_view(stroke=None)\n",
    ")"
   ]
  },
  {
   "cell_type": "code",
   "execution_count": null,
   "id": "e10f1fbd-480f-40f1-88fd-ca5d429b4624",
   "metadata": {
    "id": "e10f1fbd-480f-40f1-88fd-ca5d429b4624"
   },
   "outputs": [],
   "source": [
    "# try 2:\n",
    "point_text = cummulative.encode(\n",
    "    alt.Text('cumulative_count:Q',format='.0%'),\n",
    ")\n",
    "\n",
    "((Encodings.mark_bar(color='grey')+\n",
    "  annotations.mark_text(fontWeight='bold', color='magenta',yOffset=-5) +\n",
    "  cummulative.mark_circle(size=50, color='magenta',yOffset=15) +\n",
    "  cummulative.mark_line(yOffset=15, color='lightgrey') +\n",
    "  point_text.mark_text(yOffset=25,color='grey')) # trick\n",
    "     .configure_axis(grid=False)\n",
    "     .configure_view(stroke=None)\n",
    ")"
   ]
  },
  {
   "cell_type": "code",
   "execution_count": null,
   "id": "ab96981a",
   "metadata": {
    "id": "ab96981a"
   },
   "outputs": [],
   "source": [
    "# you may save\n",
    "\n",
    "# partidos.to_csv('partidos_2021.csv',index=False)\n",
    "# onlyPartidos.to_csv('OnlyPartidos_2021.csv',index=False)"
   ]
  },
  {
   "cell_type": "markdown",
   "id": "51caa630",
   "metadata": {
    "id": "51caa630"
   },
   "source": [
    "# <div class=\"alert alert-success\" role=\"alert\">Province Votes info</div>\n",
    "\n",
    "Let's work with the column **OrganizacionPolitica** organized by **Provincia**."
   ]
  },
  {
   "cell_type": "code",
   "execution_count": null,
   "id": "2ee5781e",
   "metadata": {
    "id": "2ee5781e"
   },
   "outputs": [],
   "source": [
    "# this is a WIDE shape!\n",
    "provincias=pd.pivot_table(subvuelta1, values=\"Votos\",\n",
    "                          index=[\"Region\", \"Provincia\"],\n",
    "                          columns=[\"OrganizacionPolitica\"])\n",
    "provincias"
   ]
  },
  {
   "cell_type": "markdown",
   "id": "3224d529",
   "metadata": {
    "id": "3224d529"
   },
   "source": [
    "Let's compute some indicators from these data:"
   ]
  },
  {
   "cell_type": "code",
   "execution_count": null,
   "id": "497e12c3",
   "metadata": {
    "id": "497e12c3"
   },
   "outputs": [],
   "source": [
    "# who won?\n",
    "party_won=provincias.iloc[:,:-2].idxmax(axis=1)\n",
    "# Where did any if the top-2 win?\n",
    "oneOf_top2_won=party_won.isin(['PERU LIBRE','FUERZA POPULAR'])\n",
    "# how many validVotes?\n",
    "votesValid_sum=provincias.iloc[:,:-2].sum(axis=1)\n",
    "# winner votes?\n",
    "partyWon_votes=provincias.iloc[:,:-2].max(axis=1)\n",
    "winner_majority=(partyWon_votes/votesValid_sum)>0.5\n",
    "# how many votes?\n",
    "votesAll_sum=provincias.iloc[:,:].sum(axis=1)\n",
    "# where did any party won?\n",
    "anyParty_won=provincias.iloc[:,-2::].sum(axis=1)<provincias.iloc[:,:-2].max(axis=1)\n",
    "# where the most competition?\n",
    "effectiveNum=1/provincias.iloc[:,:-2].div(provincias.iloc[:,:-2].sum(axis=1), axis=0).pow(2).sum(axis=1)\n",
    "\n",
    "# new vars:\n",
    "provincias['votesAll_sum']=votesAll_sum\n",
    "provincias['votesValid_sum']=votesValid_sum\n",
    "provincias['effectiveNum']=effectiveNum.astype(int)\n",
    "provincias['anyParty_won']=anyParty_won\n",
    "provincias['oneOf_top2_won']=oneOf_top2_won\n",
    "provincias['party_won']=party_won\n",
    "provincias['winner_majority']=winner_majority\n",
    "provincias['winner_share']=100*provincias.loc[:,'PERU LIBRE']/votesValid_sum\n",
    "provincias['runnerup_share']=100*provincias.loc[:,'FUERZA POPULAR']/votesValid_sum"
   ]
  },
  {
   "cell_type": "code",
   "execution_count": null,
   "id": "998d9871",
   "metadata": {
    "id": "998d9871"
   },
   "outputs": [],
   "source": [
    "provincias.info()"
   ]
  },
  {
   "cell_type": "code",
   "execution_count": null,
   "id": "be30b681-ee98-4364-9157-9019ba6221a3",
   "metadata": {
    "id": "be30b681-ee98-4364-9157-9019ba6221a3"
   },
   "outputs": [],
   "source": [
    "ProvRegionData=provincias.loc[:,'votesAll_sum'::].reset_index()\n",
    "ProvRegionData"
   ]
  },
  {
   "cell_type": "markdown",
   "id": "13cdf978-fc66-47ac-ae20-3a5a151276ed",
   "metadata": {
    "id": "13cdf978-fc66-47ac-ae20-3a5a151276ed"
   },
   "source": [
    "## <div class=\"alert alert-danger\" role=\"alert\">Merging data into map</div>"
   ]
  },
  {
   "cell_type": "code",
   "execution_count": null,
   "id": "2e666889-4362-447c-9b65-a9a06524a97b",
   "metadata": {
    "id": "2e666889-4362-447c-9b65-a9a06524a97b"
   },
   "outputs": [],
   "source": [
    "# shapefile\n",
    "linkMap=\"https://github.com/Magallanes-at-UTDT/DataViz_shortTalk_1/raw/main/map/PROVINCIAS.shp\"\n",
    "\n",
    "# read the map\n",
    "import geopandas as gpd\n",
    "mapaProv=gpd.read_file(linkMap)\n",
    "mapaProv.head()"
   ]
  },
  {
   "cell_type": "markdown",
   "id": "bebab315-7514-4d80-bc22-2267fa3d4b66",
   "metadata": {
    "id": "bebab315-7514-4d80-bc22-2267fa3d4b66"
   },
   "source": [
    "This will be our **baseMap**:"
   ]
  },
  {
   "cell_type": "code",
   "execution_count": null,
   "id": "2a641998-cf8f-4e3e-a6bd-4aa939277bde",
   "metadata": {
    "colab": {
     "background_save": true
    },
    "id": "2a641998-cf8f-4e3e-a6bd-4aa939277bde"
   },
   "outputs": [],
   "source": [
    "baseMap = alt.Chart(mapaProv).mark_geoshape(\n",
    "    fill='white',\n",
    "    stroke='lightgray'\n",
    ")\n",
    "baseMap"
   ]
  },
  {
   "cell_type": "markdown",
   "id": "bdf69288-a424-4d18-b163-c2d028f3056f",
   "metadata": {
    "id": "bdf69288-a424-4d18-b163-c2d028f3056f"
   },
   "source": [
    "In order to merge, verify both data share same values in _PROVINCIA_:"
   ]
  },
  {
   "cell_type": "code",
   "execution_count": null,
   "id": "29aec7e0-dc46-48a4-a563-d2e1d7e2a9bd",
   "metadata": {
    "id": "29aec7e0-dc46-48a4-a563-d2e1d7e2a9bd"
   },
   "outputs": [],
   "source": [
    "NotInGeoDF=sorted(list(set(mapaProv.PROVINCIA)-set(ProvRegionData.Provincia)))\n",
    "NotInDF=sorted(list(set(ProvRegionData.Provincia)-set(mapaProv.PROVINCIA)))\n",
    "changesMap={geo:df for geo,df in zip(NotInGeoDF,NotInDF)}\n",
    "\n",
    "# CHANGES NEEDED\n",
    "changesMap"
   ]
  },
  {
   "cell_type": "code",
   "execution_count": null,
   "id": "38d06282-4f52-41ef-87ed-fd5b9eccec21",
   "metadata": {
    "id": "38d06282-4f52-41ef-87ed-fd5b9eccec21"
   },
   "outputs": [],
   "source": [
    "# RECODING\n",
    "mapaProv.replace({'PROVINCIA':changesMap}, inplace=True)\n",
    "\n",
    "# MERGING\n",
    "mapaProvElect=mapaProv.merge(ProvRegionData, left_on='PROVINCIA', right_on='Provincia', how='inner')\n",
    "mapaProvElect.drop(columns=['Region','Provincia'],inplace=True) # drop duplicate info\n",
    "\n",
    "# result\n",
    "mapaProvElect.head()"
   ]
  },
  {
   "cell_type": "markdown",
   "id": "99756b7b-f33b-4ef9-8b36-62516ec0ebb8",
   "metadata": {
    "id": "99756b7b-f33b-4ef9-8b36-62516ec0ebb8"
   },
   "source": [
    "<div class=\"alert alert-info\" role=\"alert\">\n",
    "\n",
    "### Information to visualize (III)\n",
    "    \n",
    "</div>"
   ]
  },
  {
   "cell_type": "markdown",
   "id": "ba30f2c1-05db-4cb9-a410-3d6e6e0583e8",
   "metadata": {
    "id": "ba30f2c1-05db-4cb9-a410-3d6e6e0583e8"
   },
   "source": [
    "Let's focus on **effectiveNum**:"
   ]
  },
  {
   "cell_type": "code",
   "execution_count": null,
   "id": "7b459fb1",
   "metadata": {
    "id": "7b459fb1"
   },
   "outputs": [],
   "source": [
    "mapaProvElect.effectiveNum.value_counts()"
   ]
  },
  {
   "cell_type": "markdown",
   "id": "2cd14fce-4621-4ebd-892d-02e9ea606cb3",
   "metadata": {
    "id": "2cd14fce-4621-4ebd-892d-02e9ea606cb3"
   },
   "source": [
    "Let's compute some stats for each group of provinces:"
   ]
  },
  {
   "cell_type": "code",
   "execution_count": null,
   "id": "7a17b93e",
   "metadata": {
    "id": "7a17b93e"
   },
   "outputs": [],
   "source": [
    "cv=lambda x:x.std()/x.mean() # create function\n",
    "effective_describe=mapaProvElect.groupby(by=[\"effectiveNum\"])[['votesValid_sum']].agg([\"sum\",('cv',cv),'size'])\n",
    "effective_describe.reset_index(inplace=True)\n",
    "effective_describe"
   ]
  },
  {
   "cell_type": "markdown",
   "id": "33877c43-24ff-475f-9da8-7a2e1ec8c4da",
   "metadata": {
    "id": "33877c43-24ff-475f-9da8-7a2e1ec8c4da"
   },
   "source": [
    "Let' get rid of the multi-index:"
   ]
  },
  {
   "cell_type": "code",
   "execution_count": null,
   "id": "bcf35532-aa74-4e47-b80e-9f38c4b3edc8",
   "metadata": {
    "id": "bcf35532-aa74-4e47-b80e-9f38c4b3edc8"
   },
   "outputs": [],
   "source": [
    "effective_describe.columns=['effectiveNum','sumTotalVotes', 'Coef_Variation','count_provs']\n",
    "effective_describe"
   ]
  },
  {
   "cell_type": "markdown",
   "id": "7cfce022-8f84-42e6-a4e6-9975b33cb0e6",
   "metadata": {
    "id": "7cfce022-8f84-42e6-a4e6-9975b33cb0e6"
   },
   "source": [
    "Let's see what is the best viz for this information:"
   ]
  },
  {
   "cell_type": "code",
   "execution_count": null,
   "id": "17933b1e-99f6-4450-9e19-ab13460bb8d1",
   "metadata": {
    "id": "17933b1e-99f6-4450-9e19-ab13460bb8d1"
   },
   "outputs": [],
   "source": [
    "# data\n",
    "EffectiveData=alt.Chart(effective_describe)\n",
    "# enconding\n",
    "Effective_encodings = EffectiveData.encode(\n",
    "                        alt.X('sumTotalVotes'),\n",
    "                        alt.Y('Coef_Variation')).properties(width=150,height=150)\n",
    "\n",
    "# alternatives:\n",
    "try1=Effective_encodings.mark_circle().encode(alt.Color('effectiveNum:Q'))\n",
    "try2=Effective_encodings.mark_circle().encode(alt.Color('effectiveNum:O'))\n",
    "try3=Effective_encodings.mark_point().encode(alt.Shape('effectiveNum:N'))\n",
    "try4=Effective_encodings.mark_point().encode(alt.Shape('effectiveNum:N'),alt.Color('effectiveNum:N'))\n",
    "\n",
    "# concatenate alternatives\n",
    "((try1|try2).resolve_scale(color='independent',shape='independent') #legend for each\n",
    " &\n",
    " (try3|try4).resolve_scale(color='independent',shape='independent') #legend for each\n",
    ").interactive()"
   ]
  },
  {
   "cell_type": "markdown",
   "id": "ce087907-6c0d-4fb8-b2f2-28caf1cb0861",
   "metadata": {
    "id": "ce087907-6c0d-4fb8-b2f2-28caf1cb0861"
   },
   "source": [
    "What about?"
   ]
  },
  {
   "cell_type": "code",
   "execution_count": null,
   "id": "658d5515-8288-49a6-97e0-1c6ad7e9f39c",
   "metadata": {
    "id": "658d5515-8288-49a6-97e0-1c6ad7e9f39c"
   },
   "outputs": [],
   "source": [
    "from altair import datum\n",
    "\n",
    "Effective_encodings = EffectiveData.encode(\n",
    "                        alt.X('sumTotalVotes_millions:Q'),\n",
    "                        alt.Y('Coef_Variation'),\n",
    "                        alt.Color('effectiveNum:O',scale=alt.Scale(scheme='goldgreen')),\n",
    "                        alt.Size('count_provs:O'),\n",
    "                        tooltip=['effectiveNum','sumTotalVotes','count_provs']\n",
    "                    ).transform_calculate(\n",
    "                        sumTotalVotes_millions=datum.sumTotalVotes/10**6\n",
    "                    ).properties(width=450,\n",
    "                                 height=450)\n",
    "Effective_encodings.mark_circle()"
   ]
  },
  {
   "cell_type": "markdown",
   "id": "2d888170-75d0-45b5-b0ef-e6728c0456d2",
   "metadata": {
    "id": "2d888170-75d0-45b5-b0ef-e6728c0456d2"
   },
   "source": [
    "The distribution of **oneOf_top2_won**:"
   ]
  },
  {
   "cell_type": "code",
   "execution_count": null,
   "id": "c761363c-63d8-44b1-a7b9-efe72b0401ea",
   "metadata": {
    "id": "c761363c-63d8-44b1-a7b9-efe72b0401ea"
   },
   "outputs": [],
   "source": [
    "mapaProvElect.oneOf_top2_won.value_counts()"
   ]
  },
  {
   "cell_type": "markdown",
   "id": "13fa4d0e-8a0e-4791-a240-c5d12d0bb162",
   "metadata": {
    "id": "13fa4d0e-8a0e-4791-a240-c5d12d0bb162"
   },
   "source": [
    "Let's add this to the effectiveNum table for deeper analysis:"
   ]
  },
  {
   "cell_type": "code",
   "execution_count": null,
   "id": "bde01a7d-fda4-46b3-80fb-a2d88cfeafa9",
   "metadata": {
    "id": "bde01a7d-fda4-46b3-80fb-a2d88cfeafa9"
   },
   "outputs": [],
   "source": [
    "effective_describe_top2=mapaProvElect.groupby(by=[\"effectiveNum\",'oneOf_top2_won'])[['votesValid_sum']].agg([\"sum\",('cv',cv),'size'])\n",
    "effective_describe_top2.reset_index(inplace=True)\n",
    "effective_describe_top2.columns=['effectiveNum','top2','sumTotalVotes', 'Coef_Variation','count_provs']\n",
    "effective_describe_top2\n"
   ]
  },
  {
   "cell_type": "code",
   "execution_count": null,
   "id": "f30d66af-3d75-4ed0-8438-991ddbb30d73",
   "metadata": {
    "id": "f30d66af-3d75-4ed0-8438-991ddbb30d73"
   },
   "outputs": [],
   "source": [
    "#data\n",
    "EffectiveData_top2=alt.Chart(effective_describe_top2,title='Effective number of parties - if any of the top 2 won' )\n",
    "\n",
    "#encodings\n",
    "Effective_encodings = EffectiveData_top2.encode(\n",
    "                        #similar\n",
    "                        alt.X('sumTotalVotes_millions:Q'),\n",
    "                        alt.Y('Coef_Variation'),\n",
    "                        alt.Color('effectiveNum:O',scale=alt.Scale(scheme='yellowgreen')),\n",
    "                        alt.Size('count_provs:Q'),\n",
    "                        #new: split in columns\n",
    "                        alt.Column('top2'),\n",
    "                        tooltip=['effectiveNum','sumTotalVotes','count_provs']\n",
    "                    ).transform_calculate(\n",
    "                        sumTotalVotes_millions=datum.sumTotalVotes/10**6\n",
    "                    ).properties(width=300,\n",
    "                                 height=300).interactive()\n",
    "Effective_encodings.mark_circle()"
   ]
  },
  {
   "cell_type": "markdown",
   "id": "b25f4e6e-2abf-4ac7-9da3-7544ada4d2bb",
   "metadata": {
    "id": "b25f4e6e-2abf-4ac7-9da3-7544ada4d2bb"
   },
   "source": [
    "Let me plot the **choropleth** of _effectiveNum_:"
   ]
  },
  {
   "cell_type": "code",
   "execution_count": null,
   "id": "5bdbb8b8-8366-4637-9d85-a66d60e16f8e",
   "metadata": {
    "id": "5bdbb8b8-8366-4637-9d85-a66d60e16f8e"
   },
   "outputs": [],
   "source": [
    "\n",
    "theMapAndData=alt.Chart(mapaProvElect)\n",
    "theMapAndData_encodings=theMapAndData.encode(alt.Color('effectiveNum:O',\n",
    "                                                       scale=alt.Scale(scheme=\"redblue\",\n",
    "                                                                       reverse=True)\n",
    "                                                      ),\n",
    "                                             tooltip=['PROVINCIA']).properties(width=800,\n",
    "                                                                               height=500)\n",
    "theMapAndData_encodings.mark_geoshape()"
   ]
  },
  {
   "cell_type": "markdown",
   "id": "73a984cc-5dbb-40a1-a0cb-f31b7d5389df",
   "metadata": {
    "id": "73a984cc-5dbb-40a1-a0cb-f31b7d5389df"
   },
   "source": [
    "Let's use more information:"
   ]
  },
  {
   "cell_type": "code",
   "execution_count": null,
   "id": "a74d014e-8379-4dd1-8aa3-d43c53829686",
   "metadata": {
    "id": "a74d014e-8379-4dd1-8aa3-d43c53829686"
   },
   "outputs": [],
   "source": [
    "alt.concat(*(baseMap +\n",
    "             alt.Chart(mapaProvElect[mapaProvElect.effectiveNum == numberNow],\n",
    "                       title=str(numberNow))\n",
    "             .mark_geoshape()\n",
    "             .encode(alt.Color('oneOf_top2_won'),\n",
    "    ).properties(width=200, height=200\n",
    "    )\n",
    "    for numberNow in range(mapaProvElect.effectiveNum.min(),1+mapaProvElect.effectiveNum.max())\n",
    "  ), columns=4\n",
    ").properties(title='Effective Number of Parties')"
   ]
  },
  {
   "cell_type": "markdown",
   "id": "640c9367-2eff-4921-8254-64c79f807bdd",
   "metadata": {
    "id": "640c9367-2eff-4921-8254-64c79f807bdd"
   },
   "source": [
    "Let's add **winner_majority**:"
   ]
  },
  {
   "cell_type": "code",
   "execution_count": null,
   "id": "4ebfb24d-d1ee-4be1-a4e2-38280995e2a4",
   "metadata": {
    "id": "4ebfb24d-d1ee-4be1-a4e2-38280995e2a4"
   },
   "outputs": [],
   "source": [
    "effective_describe_majority=mapaProvElect.groupby(by=[\"effectiveNum\",'winner_majority'])[['votesValid_sum']].agg([\"sum\",('cv',cv),'size'])\n",
    "effective_describe_majority.reset_index(inplace=True)\n",
    "effective_describe_majority.columns=['effectiveNum','winner_majority','sumTotalVotes', 'Coef_Variation','count_provs']\n",
    "effective_describe_majority"
   ]
  },
  {
   "cell_type": "code",
   "execution_count": null,
   "id": "2de9cd0b-5957-4b25-b451-7d92aba161a5",
   "metadata": {
    "id": "2de9cd0b-5957-4b25-b451-7d92aba161a5"
   },
   "outputs": [],
   "source": [
    "#data\n",
    "EffectiveData_majority=alt.Chart(effective_describe_majority,title='Effective number of parties - when winner has majority' )\n",
    "\n",
    "#encodings\n",
    "Effective_encodings = EffectiveData_majority.encode(\n",
    "                        #similar\n",
    "                        alt.X('sumTotalVotes_millions:Q'),\n",
    "                        alt.Y('Coef_Variation'),\n",
    "                        alt.Color('effectiveNum:O',scale=alt.Scale(scheme='yellowgreen')),\n",
    "                        alt.Size('count_provs:Q'),\n",
    "                        #new: split in columns\n",
    "                        alt.Column('winner_majority'),\n",
    "                        tooltip=['effectiveNum','sumTotalVotes','count_provs']\n",
    "                    ).transform_calculate(\n",
    "                        sumTotalVotes_millions=datum.sumTotalVotes/10**6\n",
    "                    ).properties(width=300,\n",
    "                                 height=300).interactive()\n",
    "Effective_encodings.mark_circle()"
   ]
  },
  {
   "cell_type": "markdown",
   "id": "4ec74abf-ce1a-49e7-a3de-df3971521a45",
   "metadata": {
    "id": "4ec74abf-ce1a-49e7-a3de-df3971521a45"
   },
   "source": [
    "Now the map:"
   ]
  },
  {
   "cell_type": "code",
   "execution_count": null,
   "id": "c405a007-f888-453c-b896-ee30a99ff86c",
   "metadata": {
    "id": "c405a007-f888-453c-b896-ee30a99ff86c"
   },
   "outputs": [],
   "source": [
    "alt.concat(*(baseMap +\n",
    "             alt.Chart(mapaProvElect[mapaProvElect.effectiveNum == numberNow],\n",
    "                       title=str(numberNow))\n",
    "             .mark_geoshape()\n",
    "             .encode(alt.Color('winner_majority'),\n",
    "    ).properties(width=200, height=200\n",
    "    )\n",
    "    for numberNow in range(mapaProvElect.effectiveNum.min(),1+mapaProvElect.effectiveNum.max())\n",
    "  ), columns=4\n",
    ").properties(title='Effective Number of Parties')"
   ]
  },
  {
   "cell_type": "markdown",
   "id": "e8a68106-1ff5-4ba3-a2d1-05a78ee52b4a",
   "metadata": {
    "id": "e8a68106-1ff5-4ba3-a2d1-05a78ee52b4a"
   },
   "source": [
    "<div class=\"alert alert-info\" role=\"alert\">\n",
    "\n",
    "### Information to visualize (IV)\n",
    "    \n",
    "</div>"
   ]
  },
  {
   "cell_type": "markdown",
   "id": "fa1790d1-6bec-4a00-ae99-658b01212bd0",
   "metadata": {
    "id": "fa1790d1-6bec-4a00-ae99-658b01212bd0"
   },
   "source": [
    "Let me pay attention to **runnerup share**:"
   ]
  },
  {
   "cell_type": "code",
   "execution_count": null,
   "id": "50866335-f43f-48fc-bf66-9d6ecc6692d7",
   "metadata": {
    "id": "50866335-f43f-48fc-bf66-9d6ecc6692d7"
   },
   "outputs": [],
   "source": [
    "mapaProvElect.runnerup_share.describe()"
   ]
  },
  {
   "cell_type": "code",
   "execution_count": null,
   "id": "d435d4bd-de3f-459c-95f4-29c9df80d9ad",
   "metadata": {
    "id": "d435d4bd-de3f-459c-95f4-29c9df80d9ad"
   },
   "outputs": [],
   "source": [
    "theMapAndData_encodings=theMapAndData.encode(\n",
    "                        alt.Color('runnerup_share:Q',\n",
    "                                  scale=alt.Scale(scheme=\"redblue\",\n",
    "                                                  reverse=True)),\n",
    "           tooltip=['PROVINCIA']).properties(width=800,height=500)\n",
    "theMapAndData_encodings.mark_geoshape()"
   ]
  },
  {
   "cell_type": "markdown",
   "id": "cbcbd524-d8a8-4a39-b899-2fee2ef5f955",
   "metadata": {
    "id": "cbcbd524-d8a8-4a39-b899-2fee2ef5f955"
   },
   "source": [
    "Let's see the behavior of runnerup_share in the neighborhood:\n",
    "\n"
   ]
  },
  {
   "cell_type": "code",
   "execution_count": null,
   "id": "bwQhwFrCm-mK",
   "metadata": {
    "id": "bwQhwFrCm-mK"
   },
   "outputs": [],
   "source": [
    "# !pip install pysal"
   ]
  },
  {
   "cell_type": "markdown",
   "id": "6VG6ULJ7m9kB",
   "metadata": {
    "id": "6VG6ULJ7m9kB"
   },
   "source": [
    "1. Compute the neighborhood"
   ]
  },
  {
   "cell_type": "code",
   "execution_count": null,
   "id": "9d48c241-1af4-495b-a8ad-3a8d8ab4dd8d",
   "metadata": {
    "id": "9d48c241-1af4-495b-a8ad-3a8d8ab4dd8d"
   },
   "outputs": [],
   "source": [
    "from libpysal.weights import Queen\n",
    "\n",
    "w_queen = Queen.from_dataframe(mapaProvElect,use_index=False)\n",
    "w_queen.transform = 'R'"
   ]
  },
  {
   "cell_type": "markdown",
   "id": "858ff437-03ce-4110-bf92-287251123dac",
   "metadata": {
    "id": "858ff437-03ce-4110-bf92-287251123dac"
   },
   "source": [
    "2. Check if the variable **runnerup_share** shows spatial autocorrelation"
   ]
  },
  {
   "cell_type": "code",
   "execution_count": null,
   "id": "f3e20018",
   "metadata": {
    "id": "f3e20018"
   },
   "outputs": [],
   "source": [
    "from esda.moran import Moran\n",
    "\n",
    "moranRunnerup2021 = Moran(mapaProvElect['runnerup_share'], w_queen)\n",
    "moranRunnerup2021.I,moranRunnerup2021.p_sim"
   ]
  },
  {
   "cell_type": "markdown",
   "id": "84054251-68d5-46d2-9c69-188f6f69dbb6",
   "metadata": {
    "id": "84054251-68d5-46d2-9c69-188f6f69dbb6"
   },
   "source": [
    "3. Compute the local spatial autocorrelation:"
   ]
  },
  {
   "cell_type": "code",
   "execution_count": null,
   "id": "5a7e9947-205e-4eff-b4c6-f86198064d57",
   "metadata": {
    "id": "5a7e9947-205e-4eff-b4c6-f86198064d57"
   },
   "outputs": [],
   "source": [
    "from esda.moran import Moran_Local\n",
    "LisaRunnerup = Moran_Local(y=mapaProvElect['runnerup_share'], w=w_queen,seed=1234)"
   ]
  },
  {
   "cell_type": "markdown",
   "id": "2e272560-747c-47cd-a683-175d53745d2d",
   "metadata": {
    "id": "2e272560-747c-47cd-a683-175d53745d2d"
   },
   "source": [
    "4. Explore results of LISA:"
   ]
  },
  {
   "cell_type": "code",
   "execution_count": null,
   "id": "a37f2b3a",
   "metadata": {
    "id": "a37f2b3a"
   },
   "outputs": [],
   "source": [
    "from splot.esda import moran_scatterplot\n",
    "\n",
    "fig, ax = moran_scatterplot(LisaRunnerup,p=0.05)\n",
    "ax.set_xlabel('LisaRunnerup_std')\n",
    "ax.set_ylabel('SpatialLag_LisaRunnerup_std');"
   ]
  },
  {
   "cell_type": "markdown",
   "id": "82750020-2762-4fc2-8eab-1e2092797e7d",
   "metadata": {
    "id": "82750020-2762-4fc2-8eab-1e2092797e7d"
   },
   "source": [
    "5. Get labels for each province, in order to identify **spots & outliers**:"
   ]
  },
  {
   "cell_type": "code",
   "execution_count": null,
   "id": "95ee5ffc",
   "metadata": {
    "id": "95ee5ffc"
   },
   "outputs": [],
   "source": [
    "# quadrant: 1 HH,  2 LH,  3 LL,  4 HL\n",
    "labels = [ '0 no_sig', '1 hotSpot', '2 coldOutlier', '3 coldSpot', '4 hotOutlier']\n",
    "\n",
    "mapaProvElect['RUNNERUP_quadrant']=[l if p <0.05 else 0 for l,p in zip(LisaRunnerup.q,LisaRunnerup.p_sim)  ]\n",
    "mapaProvElect['RUNNERUP_quadrant']=[labels[i] for i in mapaProvElect['RUNNERUP_quadrant']]\n",
    "mapaProvElect.head()"
   ]
  },
  {
   "cell_type": "markdown",
   "id": "0432ec99-d6cf-4f79-8dfd-23ac2a6a5ef6",
   "metadata": {
    "id": "0432ec99-d6cf-4f79-8dfd-23ac2a6a5ef6"
   },
   "source": [
    "We have what is needed:"
   ]
  },
  {
   "cell_type": "code",
   "execution_count": null,
   "id": "019055d8-1b02-48a9-a59f-b5d21850019a",
   "metadata": {
    "id": "019055d8-1b02-48a9-a59f-b5d21850019a"
   },
   "outputs": [],
   "source": [
    "mapaProvElect.RUNNERUP_quadrant.value_counts()"
   ]
  },
  {
   "cell_type": "markdown",
   "id": "82331038-2f60-4e6a-994f-006350d2d660",
   "metadata": {
    "id": "82331038-2f60-4e6a-994f-006350d2d660"
   },
   "source": [
    "Now the map:"
   ]
  },
  {
   "cell_type": "code",
   "execution_count": null,
   "id": "0b1ea51b",
   "metadata": {
    "colab": {
     "background_save": true
    },
    "id": "0b1ea51b"
   },
   "outputs": [],
   "source": [
    "domain_ = labels\n",
    "range_ = ['gainsboro', 'purple', 'lime','orange','orchid']\n",
    "\n",
    "theMap_LISA=alt.Chart(mapaProvElect)\n",
    "theMap_LISA_encodings=theMap_LISA.encode(\n",
    "                                        alt.Color('RUNNERUP_quadrant',\n",
    "                                                  scale=alt.Scale(domain=domain_,\n",
    "                                                                  range=range_),\n",
    "                                                  title = \"RUNNERUP_quadrant\",\n",
    "                                                  legend=alt.Legend(orient='none',\n",
    "                                                                    direction='horizontal',\n",
    "                                                                    titleAnchor='middle',\n",
    "                                                                    legendY=-40,\n",
    "                                                                    legendX=150)),\n",
    "                                        tooltip=['PROVINCIA']).properties(width=800,\n",
    "                                                                          height=500)\n",
    "\n",
    "theMap_LISA_encodings.mark_geoshape()"
   ]
  },
  {
   "cell_type": "code",
   "execution_count": null,
   "id": "5853a3e2",
   "metadata": {
    "id": "5853a3e2"
   },
   "outputs": [],
   "source": [
    "# You may save\n",
    "# mapaProvElect.to_file(\"mapaProvElect_2021.geojson\", driver='GeoJSON')"
   ]
  }
 ],
 "metadata": {
  "colab": {
   "provenance": []
  },
  "kernelspec": {
   "display_name": "Python 3 (ipykernel)",
   "language": "python",
   "name": "python3"
  },
  "language_info": {
   "codemirror_mode": {
    "name": "ipython",
    "version": 3
   },
   "file_extension": ".py",
   "mimetype": "text/x-python",
   "name": "python",
   "nbconvert_exporter": "python",
   "pygments_lexer": "ipython3",
   "version": "3.11.9"
  }
 },
 "nbformat": 4,
 "nbformat_minor": 5
}
